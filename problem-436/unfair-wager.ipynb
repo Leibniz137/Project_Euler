{
 "cells": [
  {
   "cell_type": "markdown",
   "metadata": {},
   "source": [
    "# unfair wager\n",
    "Julie proposes the following wager to her sister Louise.\n",
    "She suggests they play a game of chance to determine who will wash the dishes.\n",
    "For this game, they shall use a generator of independent random numbers uniformly distributed between 0 and 1.\n",
    "The game starts with S = 0.\n",
    "The first player, Louise, adds to S different random numbers from the generator until S > 1 and records her last random number 'x'.\n",
    "The second player, Julie, continues adding to S different random numbers from the generator until S > 2 and records her last random number 'y'.\n",
    "The player with the highest number wins and the loser washes the dishes, i.e. if y > x the second player wins.\n",
    "\n",
    "For example, if the first player draws 0.62 and 0.44, the first player turn ends since 0.62+0.44 > 1 and x = 0.44.\n",
    "If the second players draws 0.1, 0.27 and 0.91, the second player turn ends since 0.62+0.44+0.1+0.27+0.91 > 2 and y = 0.91. Since y > x, the second player wins.\n",
    "\n",
    "Louise thinks about it for a second, and objects: \"That's not fair\".\n",
    "What is the probability that the second player wins?\n",
    "Give your answer rounded to 10 places behind the decimal point in the form 0.abcdefghij"
   ]
  },
  {
   "cell_type": "code",
   "execution_count": 19,
   "metadata": {},
   "outputs": [],
   "source": [
    "import math\n",
    "import random\n",
    "\n",
    "import pandas as pd"
   ]
  },
  {
   "cell_type": "code",
   "execution_count": 20,
   "metadata": {},
   "outputs": [],
   "source": [
    "def player_1_wins():\n",
    "    s = 0\n",
    "    while s <= 1:\n",
    "        x = random.uniform(0, 1)\n",
    "        s += x\n",
    "\n",
    "    while s <= 2:\n",
    "        y = random.uniform(0, 1)\n",
    "        s += y\n",
    "    return x > y"
   ]
  },
  {
   "cell_type": "code",
   "execution_count": 21,
   "metadata": {},
   "outputs": [],
   "source": [
    "experiments = 10**8\n",
    "wins = 0\n",
    "trials = []\n",
    "for i in range(1, experiments):\n",
    "    if player_1_wins():\n",
    "        wins += 1\n",
    "    log = math.log10(i)\n",
    "    if log == int(log):\n",
    "        iteration = i\n",
    "        probability = wins/i\n",
    "        trials.append((iteration, probability))"
   ]
  },
  {
   "cell_type": "code",
   "execution_count": 22,
   "metadata": {},
   "outputs": [],
   "source": [
    "df = pd.DataFrame(trials, columns=['iteration', 'probability'])"
   ]
  },
  {
   "cell_type": "code",
   "execution_count": 23,
   "metadata": {},
   "outputs": [],
   "source": [
    "%matplotlib inline"
   ]
  },
  {
   "cell_type": "code",
   "execution_count": 24,
   "metadata": {},
   "outputs": [
    {
     "data": {
      "text/plain": [
       "<matplotlib.axes._subplots.AxesSubplot at 0x10d318518>"
      ]
     },
     "execution_count": 24,
     "metadata": {},
     "output_type": "execute_result"
    },
    {
     "data": {
      "image/png": "[encoded data removed]",
      "text/plain": [
       "<Figure size 432x288 with 1 Axes>"
      ]
     },
     "metadata": {
      "needs_background": "light"
     },
     "output_type": "display_data"
    }
   ],
   "source": [
    "df.plot(x='iteration', y='probability', logx=True)"
   ]
  },
  {
   "cell_type": "code",
   "execution_count": 25,
   "metadata": {},
   "outputs": [
    {
     "name": "stdout",
     "output_type": "stream",
     "text": [
      "[(1, 0.0),\n",
      " (10, 0.5),\n",
      " (100, 0.47),\n",
      " (1000, 0.466),\n",
      " (10000, 0.4705),\n",
      " (100000, 0.46944),\n",
      " (1000000, 0.471708),\n",
      " (10000000, 0.4721469)]\n"
     ]
    }
   ],
   "source": [
    "import pprint\n",
    "pprint.pprint(trials)"
   ]
  },
  {
   "cell_type": "code",
   "execution_count": null,
   "metadata": {},
   "outputs": [],
   "source": []
  }
 ],
 "metadata": {
  "kernelspec": {
   "display_name": "Python 3",
   "language": "python",
   "name": "python3"
  },
  "language_info": {
   "codemirror_mode": {
    "name": "ipython",
    "version": 3
   },
   "file_extension": ".py",
   "mimetype": "text/x-python",
   "name": "python",
   "nbconvert_exporter": "python",
   "pygments_lexer": "ipython3",
   "version": "3.7.3"
  }
 },
 "nbformat": 4,
 "nbformat_minor": 4
}
